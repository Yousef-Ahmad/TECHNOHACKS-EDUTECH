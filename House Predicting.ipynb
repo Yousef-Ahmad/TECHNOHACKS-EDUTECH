{
  "cells": [
    {
      "cell_type": "code",
      "execution_count": 94,
      "metadata": {
        "id": "DxYAtPoo3mDR"
      },
      "outputs": [],
      "source": [
        "import pandas as pd\n",
        "from sklearn.model_selection import train_test_split\n",
        "from sklearn.linear_model import LinearRegression\n",
        "from sklearn.metrics import mean_squared_error\n",
        "import matplotlib.pyplot as plt\n",
        "from sklearn.metrics import r2_score"
      ]
    },
    {
      "cell_type": "code",
      "execution_count": 68,
      "metadata": {
        "colab": {
          "base_uri": "https://localhost:8080/",
          "height": 253
        },
        "id": "oC3UDfHx31Hi",
        "outputId": "31616427-8869-4a05-9bd0-c92f9aa187a3"
      },
      "outputs": [
        {
          "data": {
            "text/html": [
              "<div>\n",
              "<style scoped>\n",
              "    .dataframe tbody tr th:only-of-type {\n",
              "        vertical-align: middle;\n",
              "    }\n",
              "\n",
              "    .dataframe tbody tr th {\n",
              "        vertical-align: top;\n",
              "    }\n",
              "\n",
              "    .dataframe thead th {\n",
              "        text-align: right;\n",
              "    }\n",
              "</style>\n",
              "<table border=\"1\" class=\"dataframe\">\n",
              "  <thead>\n",
              "    <tr style=\"text-align: right;\">\n",
              "      <th></th>\n",
              "      <th>MSSubClass</th>\n",
              "      <th>MSZoning</th>\n",
              "      <th>LotFrontage</th>\n",
              "      <th>LotArea</th>\n",
              "      <th>Street</th>\n",
              "      <th>Neighborhood</th>\n",
              "      <th>OverallQual</th>\n",
              "      <th>OverallCond</th>\n",
              "      <th>YearBuilt</th>\n",
              "      <th>YearRemodAdd</th>\n",
              "      <th>...</th>\n",
              "      <th>GrLivArea.1</th>\n",
              "      <th>FullBath</th>\n",
              "      <th>HalfBath</th>\n",
              "      <th>BedroomAbvGr</th>\n",
              "      <th>KitchenAbvGr</th>\n",
              "      <th>TotRmsAbvGrd</th>\n",
              "      <th>Fireplaces</th>\n",
              "      <th>GarageCars</th>\n",
              "      <th>GarageArea</th>\n",
              "      <th>SalePrice</th>\n",
              "    </tr>\n",
              "  </thead>\n",
              "  <tbody>\n",
              "    <tr>\n",
              "      <th>0</th>\n",
              "      <td>60</td>\n",
              "      <td>RL</td>\n",
              "      <td>65.0</td>\n",
              "      <td>8450</td>\n",
              "      <td>Pave</td>\n",
              "      <td>CollgCr</td>\n",
              "      <td>7</td>\n",
              "      <td>5</td>\n",
              "      <td>2003</td>\n",
              "      <td>2003</td>\n",
              "      <td>...</td>\n",
              "      <td>1710</td>\n",
              "      <td>2</td>\n",
              "      <td>1</td>\n",
              "      <td>3</td>\n",
              "      <td>1</td>\n",
              "      <td>8</td>\n",
              "      <td>0</td>\n",
              "      <td>2</td>\n",
              "      <td>548</td>\n",
              "      <td>208500</td>\n",
              "    </tr>\n",
              "    <tr>\n",
              "      <th>1</th>\n",
              "      <td>20</td>\n",
              "      <td>RL</td>\n",
              "      <td>80.0</td>\n",
              "      <td>9600</td>\n",
              "      <td>Pave</td>\n",
              "      <td>Veenker</td>\n",
              "      <td>6</td>\n",
              "      <td>8</td>\n",
              "      <td>1976</td>\n",
              "      <td>1976</td>\n",
              "      <td>...</td>\n",
              "      <td>1262</td>\n",
              "      <td>2</td>\n",
              "      <td>0</td>\n",
              "      <td>3</td>\n",
              "      <td>1</td>\n",
              "      <td>6</td>\n",
              "      <td>1</td>\n",
              "      <td>2</td>\n",
              "      <td>460</td>\n",
              "      <td>181500</td>\n",
              "    </tr>\n",
              "    <tr>\n",
              "      <th>2</th>\n",
              "      <td>60</td>\n",
              "      <td>RL</td>\n",
              "      <td>68.0</td>\n",
              "      <td>11250</td>\n",
              "      <td>Pave</td>\n",
              "      <td>CollgCr</td>\n",
              "      <td>7</td>\n",
              "      <td>5</td>\n",
              "      <td>2001</td>\n",
              "      <td>2002</td>\n",
              "      <td>...</td>\n",
              "      <td>1786</td>\n",
              "      <td>2</td>\n",
              "      <td>1</td>\n",
              "      <td>3</td>\n",
              "      <td>1</td>\n",
              "      <td>6</td>\n",
              "      <td>1</td>\n",
              "      <td>2</td>\n",
              "      <td>608</td>\n",
              "      <td>223500</td>\n",
              "    </tr>\n",
              "    <tr>\n",
              "      <th>3</th>\n",
              "      <td>70</td>\n",
              "      <td>RL</td>\n",
              "      <td>60.0</td>\n",
              "      <td>9550</td>\n",
              "      <td>Pave</td>\n",
              "      <td>Crawfor</td>\n",
              "      <td>7</td>\n",
              "      <td>5</td>\n",
              "      <td>1915</td>\n",
              "      <td>1970</td>\n",
              "      <td>...</td>\n",
              "      <td>1717</td>\n",
              "      <td>1</td>\n",
              "      <td>0</td>\n",
              "      <td>3</td>\n",
              "      <td>1</td>\n",
              "      <td>7</td>\n",
              "      <td>1</td>\n",
              "      <td>3</td>\n",
              "      <td>642</td>\n",
              "      <td>140000</td>\n",
              "    </tr>\n",
              "    <tr>\n",
              "      <th>4</th>\n",
              "      <td>60</td>\n",
              "      <td>RL</td>\n",
              "      <td>84.0</td>\n",
              "      <td>14260</td>\n",
              "      <td>Pave</td>\n",
              "      <td>NoRidge</td>\n",
              "      <td>8</td>\n",
              "      <td>5</td>\n",
              "      <td>2000</td>\n",
              "      <td>2000</td>\n",
              "      <td>...</td>\n",
              "      <td>2198</td>\n",
              "      <td>2</td>\n",
              "      <td>1</td>\n",
              "      <td>4</td>\n",
              "      <td>1</td>\n",
              "      <td>9</td>\n",
              "      <td>1</td>\n",
              "      <td>3</td>\n",
              "      <td>836</td>\n",
              "      <td>250000</td>\n",
              "    </tr>\n",
              "  </tbody>\n",
              "</table>\n",
              "<p>5 rows × 26 columns</p>\n",
              "</div>"
            ],
            "text/plain": [
              "   MSSubClass MSZoning  LotFrontage  LotArea Street Neighborhood  OverallQual  \\\n",
              "0          60       RL         65.0     8450   Pave      CollgCr            7   \n",
              "1          20       RL         80.0     9600   Pave      Veenker            6   \n",
              "2          60       RL         68.0    11250   Pave      CollgCr            7   \n",
              "3          70       RL         60.0     9550   Pave      Crawfor            7   \n",
              "4          60       RL         84.0    14260   Pave      NoRidge            8   \n",
              "\n",
              "   OverallCond  YearBuilt  YearRemodAdd  ...  GrLivArea.1  FullBath  HalfBath  \\\n",
              "0            5       2003          2003  ...         1710         2         1   \n",
              "1            8       1976          1976  ...         1262         2         0   \n",
              "2            5       2001          2002  ...         1786         2         1   \n",
              "3            5       1915          1970  ...         1717         1         0   \n",
              "4            5       2000          2000  ...         2198         2         1   \n",
              "\n",
              "   BedroomAbvGr  KitchenAbvGr  TotRmsAbvGrd  Fireplaces  GarageCars  \\\n",
              "0             3             1             8           0           2   \n",
              "1             3             1             6           1           2   \n",
              "2             3             1             6           1           2   \n",
              "3             3             1             7           1           3   \n",
              "4             4             1             9           1           3   \n",
              "\n",
              "   GarageArea  SalePrice  \n",
              "0         548     208500  \n",
              "1         460     181500  \n",
              "2         608     223500  \n",
              "3         642     140000  \n",
              "4         836     250000  \n",
              "\n",
              "[5 rows x 26 columns]"
            ]
          },
          "execution_count": 68,
          "metadata": {},
          "output_type": "execute_result"
        }
      ],
      "source": [
        "train_data = pd.read_csv(r\"C:\\Users\\youse\\Desktop\\INDIA PROJECT TECHNO\\train.csv\")\n",
        "train_data.head()"
      ]
    },
    {
      "cell_type": "code",
      "execution_count": 69,
      "metadata": {
        "colab": {
          "base_uri": "https://localhost:8080/"
        },
        "id": "SzXfjjT87J1H",
        "outputId": "9a963ecb-7007-4e79-ca86-396c0f3c5db6"
      },
      "outputs": [
        {
          "name": "stdout",
          "output_type": "stream",
          "text": [
            "Train data shape: (1460, 26)\n"
          ]
        }
      ],
      "source": [
        "print(\"Train data shape:\", train_data.shape)"
      ]
    },
    {
      "cell_type": "code",
      "execution_count": 70,
      "metadata": {
        "colab": {
          "base_uri": "https://localhost:8080/"
        },
        "id": "AKpNsoNJ7Rmg",
        "outputId": "ac69a73d-fb3b-4c1c-ad7f-98f1dc8df271"
      },
      "outputs": [
        {
          "name": "stdout",
          "output_type": "stream",
          "text": [
            "<class 'pandas.core.frame.DataFrame'>\n",
            "RangeIndex: 1460 entries, 0 to 1459\n",
            "Data columns (total 26 columns):\n",
            " #   Column        Non-Null Count  Dtype  \n",
            "---  ------        --------------  -----  \n",
            " 0   MSSubClass    1460 non-null   int64  \n",
            " 1   MSZoning      1460 non-null   object \n",
            " 2   LotFrontage   1201 non-null   float64\n",
            " 3   LotArea       1460 non-null   int64  \n",
            " 4   Street        1460 non-null   object \n",
            " 5   Neighborhood  1460 non-null   object \n",
            " 6   OverallQual   1460 non-null   int64  \n",
            " 7   OverallCond   1460 non-null   int64  \n",
            " 8   YearBuilt     1460 non-null   int64  \n",
            " 9   YearRemodAdd  1460 non-null   int64  \n",
            " 10  TotalBsmtSF   1460 non-null   int64  \n",
            " 11  1stFlrSF      1460 non-null   int64  \n",
            " 12  2ndFlrSF      1460 non-null   int64  \n",
            " 13  GrLivArea     1460 non-null   int64  \n",
            " 14  1stFlrSF.1    1460 non-null   int64  \n",
            " 15  2ndFlrSF.1    1460 non-null   int64  \n",
            " 16  GrLivArea.1   1460 non-null   int64  \n",
            " 17  FullBath      1460 non-null   int64  \n",
            " 18  HalfBath      1460 non-null   int64  \n",
            " 19  BedroomAbvGr  1460 non-null   int64  \n",
            " 20  KitchenAbvGr  1460 non-null   int64  \n",
            " 21  TotRmsAbvGrd  1460 non-null   int64  \n",
            " 22  Fireplaces    1460 non-null   int64  \n",
            " 23  GarageCars    1460 non-null   int64  \n",
            " 24  GarageArea    1460 non-null   int64  \n",
            " 25  SalePrice     1460 non-null   int64  \n",
            "dtypes: float64(1), int64(22), object(3)\n",
            "memory usage: 296.7+ KB\n"
          ]
        }
      ],
      "source": [
        "train_data.info()"
      ]
    },
    {
      "cell_type": "code",
      "execution_count": 71,
      "metadata": {
        "colab": {
          "base_uri": "https://localhost:8080/"
        },
        "id": "0OK6A3by8FW-",
        "outputId": "bae91d3b-3ebb-4865-9600-6ef185d88adf"
      },
      "outputs": [
        {
          "name": "stdout",
          "output_type": "stream",
          "text": [
            "Missing values in training data:\n",
            "MSSubClass        0\n",
            "MSZoning          0\n",
            "LotFrontage     259\n",
            "LotArea           0\n",
            "Street            0\n",
            "Neighborhood      0\n",
            "OverallQual       0\n",
            "OverallCond       0\n",
            "YearBuilt         0\n",
            "YearRemodAdd      0\n",
            "TotalBsmtSF       0\n",
            "1stFlrSF          0\n",
            "2ndFlrSF          0\n",
            "GrLivArea         0\n",
            "1stFlrSF.1        0\n",
            "2ndFlrSF.1        0\n",
            "GrLivArea.1       0\n",
            "FullBath          0\n",
            "HalfBath          0\n",
            "BedroomAbvGr      0\n",
            "KitchenAbvGr      0\n",
            "TotRmsAbvGrd      0\n",
            "Fireplaces        0\n",
            "GarageCars        0\n",
            "GarageArea        0\n",
            "SalePrice         0\n",
            "dtype: int64\n"
          ]
        }
      ],
      "source": [
        "print(\"Missing values in training data:\")\n",
        "print(train_data.isnull().sum())"
      ]
    },
    {
      "cell_type": "code",
      "execution_count": 72,
      "metadata": {
        "colab": {
          "base_uri": "https://localhost:8080/",
          "height": 253
        },
        "id": "X7RzyXgOCueK",
        "outputId": "ab514c57-8181-42a1-d9d4-a38d7fb3f2ff"
      },
      "outputs": [
        {
          "data": {
            "text/html": [
              "<div>\n",
              "<style scoped>\n",
              "    .dataframe tbody tr th:only-of-type {\n",
              "        vertical-align: middle;\n",
              "    }\n",
              "\n",
              "    .dataframe tbody tr th {\n",
              "        vertical-align: top;\n",
              "    }\n",
              "\n",
              "    .dataframe thead th {\n",
              "        text-align: right;\n",
              "    }\n",
              "</style>\n",
              "<table border=\"1\" class=\"dataframe\">\n",
              "  <thead>\n",
              "    <tr style=\"text-align: right;\">\n",
              "      <th></th>\n",
              "      <th>MSSubClass</th>\n",
              "      <th>MSZoning</th>\n",
              "      <th>LotFrontage</th>\n",
              "      <th>LotArea</th>\n",
              "      <th>Street</th>\n",
              "      <th>Neighborhood</th>\n",
              "      <th>OverallQual</th>\n",
              "      <th>OverallCond</th>\n",
              "      <th>YearBuilt</th>\n",
              "      <th>YearRemodAdd</th>\n",
              "      <th>...</th>\n",
              "      <th>GrLivArea.1</th>\n",
              "      <th>FullBath</th>\n",
              "      <th>HalfBath</th>\n",
              "      <th>BedroomAbvGr</th>\n",
              "      <th>KitchenAbvGr</th>\n",
              "      <th>TotRmsAbvGrd</th>\n",
              "      <th>Fireplaces</th>\n",
              "      <th>GarageCars</th>\n",
              "      <th>GarageArea</th>\n",
              "      <th>SalePrice</th>\n",
              "    </tr>\n",
              "  </thead>\n",
              "  <tbody>\n",
              "    <tr>\n",
              "      <th>0</th>\n",
              "      <td>60</td>\n",
              "      <td>RL</td>\n",
              "      <td>65.0</td>\n",
              "      <td>8450</td>\n",
              "      <td>Pave</td>\n",
              "      <td>CollgCr</td>\n",
              "      <td>7</td>\n",
              "      <td>5</td>\n",
              "      <td>2003</td>\n",
              "      <td>2003</td>\n",
              "      <td>...</td>\n",
              "      <td>1710</td>\n",
              "      <td>2</td>\n",
              "      <td>1</td>\n",
              "      <td>3</td>\n",
              "      <td>1</td>\n",
              "      <td>8</td>\n",
              "      <td>0</td>\n",
              "      <td>2</td>\n",
              "      <td>548</td>\n",
              "      <td>208500</td>\n",
              "    </tr>\n",
              "    <tr>\n",
              "      <th>1</th>\n",
              "      <td>20</td>\n",
              "      <td>RL</td>\n",
              "      <td>80.0</td>\n",
              "      <td>9600</td>\n",
              "      <td>Pave</td>\n",
              "      <td>Veenker</td>\n",
              "      <td>6</td>\n",
              "      <td>8</td>\n",
              "      <td>1976</td>\n",
              "      <td>1976</td>\n",
              "      <td>...</td>\n",
              "      <td>1262</td>\n",
              "      <td>2</td>\n",
              "      <td>0</td>\n",
              "      <td>3</td>\n",
              "      <td>1</td>\n",
              "      <td>6</td>\n",
              "      <td>1</td>\n",
              "      <td>2</td>\n",
              "      <td>460</td>\n",
              "      <td>181500</td>\n",
              "    </tr>\n",
              "    <tr>\n",
              "      <th>2</th>\n",
              "      <td>60</td>\n",
              "      <td>RL</td>\n",
              "      <td>68.0</td>\n",
              "      <td>11250</td>\n",
              "      <td>Pave</td>\n",
              "      <td>CollgCr</td>\n",
              "      <td>7</td>\n",
              "      <td>5</td>\n",
              "      <td>2001</td>\n",
              "      <td>2002</td>\n",
              "      <td>...</td>\n",
              "      <td>1786</td>\n",
              "      <td>2</td>\n",
              "      <td>1</td>\n",
              "      <td>3</td>\n",
              "      <td>1</td>\n",
              "      <td>6</td>\n",
              "      <td>1</td>\n",
              "      <td>2</td>\n",
              "      <td>608</td>\n",
              "      <td>223500</td>\n",
              "    </tr>\n",
              "    <tr>\n",
              "      <th>3</th>\n",
              "      <td>70</td>\n",
              "      <td>RL</td>\n",
              "      <td>60.0</td>\n",
              "      <td>9550</td>\n",
              "      <td>Pave</td>\n",
              "      <td>Crawfor</td>\n",
              "      <td>7</td>\n",
              "      <td>5</td>\n",
              "      <td>1915</td>\n",
              "      <td>1970</td>\n",
              "      <td>...</td>\n",
              "      <td>1717</td>\n",
              "      <td>1</td>\n",
              "      <td>0</td>\n",
              "      <td>3</td>\n",
              "      <td>1</td>\n",
              "      <td>7</td>\n",
              "      <td>1</td>\n",
              "      <td>3</td>\n",
              "      <td>642</td>\n",
              "      <td>140000</td>\n",
              "    </tr>\n",
              "    <tr>\n",
              "      <th>4</th>\n",
              "      <td>60</td>\n",
              "      <td>RL</td>\n",
              "      <td>84.0</td>\n",
              "      <td>14260</td>\n",
              "      <td>Pave</td>\n",
              "      <td>NoRidge</td>\n",
              "      <td>8</td>\n",
              "      <td>5</td>\n",
              "      <td>2000</td>\n",
              "      <td>2000</td>\n",
              "      <td>...</td>\n",
              "      <td>2198</td>\n",
              "      <td>2</td>\n",
              "      <td>1</td>\n",
              "      <td>4</td>\n",
              "      <td>1</td>\n",
              "      <td>9</td>\n",
              "      <td>1</td>\n",
              "      <td>3</td>\n",
              "      <td>836</td>\n",
              "      <td>250000</td>\n",
              "    </tr>\n",
              "  </tbody>\n",
              "</table>\n",
              "<p>5 rows × 26 columns</p>\n",
              "</div>"
            ],
            "text/plain": [
              "   MSSubClass MSZoning  LotFrontage  LotArea Street Neighborhood  OverallQual  \\\n",
              "0          60       RL         65.0     8450   Pave      CollgCr            7   \n",
              "1          20       RL         80.0     9600   Pave      Veenker            6   \n",
              "2          60       RL         68.0    11250   Pave      CollgCr            7   \n",
              "3          70       RL         60.0     9550   Pave      Crawfor            7   \n",
              "4          60       RL         84.0    14260   Pave      NoRidge            8   \n",
              "\n",
              "   OverallCond  YearBuilt  YearRemodAdd  ...  GrLivArea.1  FullBath  HalfBath  \\\n",
              "0            5       2003          2003  ...         1710         2         1   \n",
              "1            8       1976          1976  ...         1262         2         0   \n",
              "2            5       2001          2002  ...         1786         2         1   \n",
              "3            5       1915          1970  ...         1717         1         0   \n",
              "4            5       2000          2000  ...         2198         2         1   \n",
              "\n",
              "   BedroomAbvGr  KitchenAbvGr  TotRmsAbvGrd  Fireplaces  GarageCars  \\\n",
              "0             3             1             8           0           2   \n",
              "1             3             1             6           1           2   \n",
              "2             3             1             6           1           2   \n",
              "3             3             1             7           1           3   \n",
              "4             4             1             9           1           3   \n",
              "\n",
              "   GarageArea  SalePrice  \n",
              "0         548     208500  \n",
              "1         460     181500  \n",
              "2         608     223500  \n",
              "3         642     140000  \n",
              "4         836     250000  \n",
              "\n",
              "[5 rows x 26 columns]"
            ]
          },
          "execution_count": 72,
          "metadata": {},
          "output_type": "execute_result"
        }
      ],
      "source": [
        "lot_frontage_mean = train_data['LotFrontage'].mean()\n",
        "train_data['LotFrontage'].fillna(lot_frontage_mean, inplace=True)\n",
        "train_data.head()"
      ]
    },
    {
      "cell_type": "code",
      "execution_count": 73,
      "metadata": {
        "colab": {
          "base_uri": "https://localhost:8080/"
        },
        "id": "RRqmYFRw_Cz4",
        "outputId": "b3f6fea0-ab2e-4015-b2f9-2430a18e37c5"
      },
      "outputs": [
        {
          "name": "stdout",
          "output_type": "stream",
          "text": [
            "Missing values in training data:\n",
            "MSSubClass      0\n",
            "MSZoning        0\n",
            "LotFrontage     0\n",
            "LotArea         0\n",
            "Street          0\n",
            "Neighborhood    0\n",
            "OverallQual     0\n",
            "OverallCond     0\n",
            "YearBuilt       0\n",
            "YearRemodAdd    0\n",
            "TotalBsmtSF     0\n",
            "1stFlrSF        0\n",
            "2ndFlrSF        0\n",
            "GrLivArea       0\n",
            "1stFlrSF.1      0\n",
            "2ndFlrSF.1      0\n",
            "GrLivArea.1     0\n",
            "FullBath        0\n",
            "HalfBath        0\n",
            "BedroomAbvGr    0\n",
            "KitchenAbvGr    0\n",
            "TotRmsAbvGrd    0\n",
            "Fireplaces      0\n",
            "GarageCars      0\n",
            "GarageArea      0\n",
            "SalePrice       0\n",
            "dtype: int64\n"
          ]
        }
      ],
      "source": [
        "print(\"Missing values in training data:\")\n",
        "print(train_data.isnull().sum())"
      ]
    },
    {
      "cell_type": "code",
      "execution_count": 74,
      "metadata": {
        "colab": {
          "base_uri": "https://localhost:8080/",
          "height": 253
        },
        "id": "kzPbXdQr_Q8L",
        "outputId": "60c3659e-ca29-4a24-9c35-e9b45602c6a8"
      },
      "outputs": [
        {
          "data": {
            "text/html": [
              "<div>\n",
              "<style scoped>\n",
              "    .dataframe tbody tr th:only-of-type {\n",
              "        vertical-align: middle;\n",
              "    }\n",
              "\n",
              "    .dataframe tbody tr th {\n",
              "        vertical-align: top;\n",
              "    }\n",
              "\n",
              "    .dataframe thead th {\n",
              "        text-align: right;\n",
              "    }\n",
              "</style>\n",
              "<table border=\"1\" class=\"dataframe\">\n",
              "  <thead>\n",
              "    <tr style=\"text-align: right;\">\n",
              "      <th></th>\n",
              "      <th>MSSubClass</th>\n",
              "      <th>MSZoning</th>\n",
              "      <th>LotFrontage</th>\n",
              "      <th>LotArea</th>\n",
              "      <th>Neighborhood</th>\n",
              "      <th>OverallQual</th>\n",
              "      <th>OverallCond</th>\n",
              "      <th>YearBuilt</th>\n",
              "      <th>YearRemodAdd</th>\n",
              "      <th>TotalBsmtSF</th>\n",
              "      <th>1stFlrSF</th>\n",
              "      <th>2ndFlrSF</th>\n",
              "      <th>FullBath</th>\n",
              "      <th>HalfBath</th>\n",
              "      <th>BedroomAbvGr</th>\n",
              "      <th>KitchenAbvGr</th>\n",
              "      <th>TotRmsAbvGrd</th>\n",
              "      <th>Fireplaces</th>\n",
              "      <th>GarageCars</th>\n",
              "      <th>GarageArea</th>\n",
              "    </tr>\n",
              "  </thead>\n",
              "  <tbody>\n",
              "    <tr>\n",
              "      <th>0</th>\n",
              "      <td>20</td>\n",
              "      <td>RH</td>\n",
              "      <td>80.0</td>\n",
              "      <td>11622</td>\n",
              "      <td>NAmes</td>\n",
              "      <td>5</td>\n",
              "      <td>6</td>\n",
              "      <td>1961</td>\n",
              "      <td>1961</td>\n",
              "      <td>882.0</td>\n",
              "      <td>896</td>\n",
              "      <td>0</td>\n",
              "      <td>1</td>\n",
              "      <td>0</td>\n",
              "      <td>2</td>\n",
              "      <td>1</td>\n",
              "      <td>5</td>\n",
              "      <td>0</td>\n",
              "      <td>1.0</td>\n",
              "      <td>730.0</td>\n",
              "    </tr>\n",
              "    <tr>\n",
              "      <th>1</th>\n",
              "      <td>20</td>\n",
              "      <td>RL</td>\n",
              "      <td>81.0</td>\n",
              "      <td>14267</td>\n",
              "      <td>NAmes</td>\n",
              "      <td>6</td>\n",
              "      <td>6</td>\n",
              "      <td>1958</td>\n",
              "      <td>1958</td>\n",
              "      <td>1329.0</td>\n",
              "      <td>1329</td>\n",
              "      <td>0</td>\n",
              "      <td>1</td>\n",
              "      <td>1</td>\n",
              "      <td>3</td>\n",
              "      <td>1</td>\n",
              "      <td>6</td>\n",
              "      <td>0</td>\n",
              "      <td>1.0</td>\n",
              "      <td>312.0</td>\n",
              "    </tr>\n",
              "    <tr>\n",
              "      <th>2</th>\n",
              "      <td>60</td>\n",
              "      <td>RL</td>\n",
              "      <td>74.0</td>\n",
              "      <td>13830</td>\n",
              "      <td>Gilbert</td>\n",
              "      <td>5</td>\n",
              "      <td>5</td>\n",
              "      <td>1997</td>\n",
              "      <td>1998</td>\n",
              "      <td>928.0</td>\n",
              "      <td>928</td>\n",
              "      <td>701</td>\n",
              "      <td>2</td>\n",
              "      <td>1</td>\n",
              "      <td>3</td>\n",
              "      <td>1</td>\n",
              "      <td>6</td>\n",
              "      <td>1</td>\n",
              "      <td>2.0</td>\n",
              "      <td>482.0</td>\n",
              "    </tr>\n",
              "    <tr>\n",
              "      <th>3</th>\n",
              "      <td>60</td>\n",
              "      <td>RL</td>\n",
              "      <td>78.0</td>\n",
              "      <td>9978</td>\n",
              "      <td>Gilbert</td>\n",
              "      <td>6</td>\n",
              "      <td>6</td>\n",
              "      <td>1998</td>\n",
              "      <td>1998</td>\n",
              "      <td>926.0</td>\n",
              "      <td>926</td>\n",
              "      <td>678</td>\n",
              "      <td>2</td>\n",
              "      <td>1</td>\n",
              "      <td>3</td>\n",
              "      <td>1</td>\n",
              "      <td>7</td>\n",
              "      <td>1</td>\n",
              "      <td>2.0</td>\n",
              "      <td>470.0</td>\n",
              "    </tr>\n",
              "    <tr>\n",
              "      <th>4</th>\n",
              "      <td>120</td>\n",
              "      <td>RL</td>\n",
              "      <td>43.0</td>\n",
              "      <td>5005</td>\n",
              "      <td>StoneBr</td>\n",
              "      <td>8</td>\n",
              "      <td>5</td>\n",
              "      <td>1992</td>\n",
              "      <td>1992</td>\n",
              "      <td>1280.0</td>\n",
              "      <td>1280</td>\n",
              "      <td>0</td>\n",
              "      <td>2</td>\n",
              "      <td>0</td>\n",
              "      <td>2</td>\n",
              "      <td>1</td>\n",
              "      <td>5</td>\n",
              "      <td>0</td>\n",
              "      <td>2.0</td>\n",
              "      <td>506.0</td>\n",
              "    </tr>\n",
              "  </tbody>\n",
              "</table>\n",
              "</div>"
            ],
            "text/plain": [
              "   MSSubClass MSZoning  LotFrontage  LotArea Neighborhood  OverallQual  \\\n",
              "0          20       RH         80.0    11622        NAmes            5   \n",
              "1          20       RL         81.0    14267        NAmes            6   \n",
              "2          60       RL         74.0    13830      Gilbert            5   \n",
              "3          60       RL         78.0     9978      Gilbert            6   \n",
              "4         120       RL         43.0     5005      StoneBr            8   \n",
              "\n",
              "   OverallCond  YearBuilt  YearRemodAdd  TotalBsmtSF  1stFlrSF  2ndFlrSF  \\\n",
              "0            6       1961          1961        882.0       896         0   \n",
              "1            6       1958          1958       1329.0      1329         0   \n",
              "2            5       1997          1998        928.0       928       701   \n",
              "3            6       1998          1998        926.0       926       678   \n",
              "4            5       1992          1992       1280.0      1280         0   \n",
              "\n",
              "   FullBath  HalfBath  BedroomAbvGr  KitchenAbvGr  TotRmsAbvGrd  Fireplaces  \\\n",
              "0         1         0             2             1             5           0   \n",
              "1         1         1             3             1             6           0   \n",
              "2         2         1             3             1             6           1   \n",
              "3         2         1             3             1             7           1   \n",
              "4         2         0             2             1             5           0   \n",
              "\n",
              "   GarageCars  GarageArea  \n",
              "0         1.0       730.0  \n",
              "1         1.0       312.0  \n",
              "2         2.0       482.0  \n",
              "3         2.0       470.0  \n",
              "4         2.0       506.0  "
            ]
          },
          "execution_count": 74,
          "metadata": {},
          "output_type": "execute_result"
        }
      ],
      "source": [
        "test_data = pd.read_csv(r\"C:\\Users\\youse\\Desktop\\INDIA PROJECT TECHNO\\test.csv\")\n",
        "test_data.head()"
      ]
    },
    {
      "cell_type": "code",
      "execution_count": 75,
      "metadata": {
        "colab": {
          "base_uri": "https://localhost:8080/"
        },
        "id": "OXcg0IGJAb8i",
        "outputId": "392ed2f3-be72-4256-dcca-b7d8d181b50b"
      },
      "outputs": [
        {
          "name": "stdout",
          "output_type": "stream",
          "text": [
            "Test Data Shape:  (1459, 20)\n"
          ]
        }
      ],
      "source": [
        "print(\"Test Data Shape: \", test_data.shape)"
      ]
    },
    {
      "cell_type": "code",
      "execution_count": 76,
      "metadata": {
        "colab": {
          "base_uri": "https://localhost:8080/"
        },
        "id": "VtjWgnFYAdRW",
        "outputId": "19b0a719-6194-471b-97c3-e2ae23849e67"
      },
      "outputs": [
        {
          "name": "stdout",
          "output_type": "stream",
          "text": [
            "<class 'pandas.core.frame.DataFrame'>\n",
            "RangeIndex: 1459 entries, 0 to 1458\n",
            "Data columns (total 20 columns):\n",
            " #   Column        Non-Null Count  Dtype  \n",
            "---  ------        --------------  -----  \n",
            " 0   MSSubClass    1459 non-null   int64  \n",
            " 1   MSZoning      1455 non-null   object \n",
            " 2   LotFrontage   1232 non-null   float64\n",
            " 3   LotArea       1459 non-null   int64  \n",
            " 4   Neighborhood  1459 non-null   object \n",
            " 5   OverallQual   1459 non-null   int64  \n",
            " 6   OverallCond   1459 non-null   int64  \n",
            " 7   YearBuilt     1459 non-null   int64  \n",
            " 8   YearRemodAdd  1459 non-null   int64  \n",
            " 9   TotalBsmtSF   1458 non-null   float64\n",
            " 10  1stFlrSF      1459 non-null   int64  \n",
            " 11  2ndFlrSF      1459 non-null   int64  \n",
            " 12  FullBath      1459 non-null   int64  \n",
            " 13  HalfBath      1459 non-null   int64  \n",
            " 14  BedroomAbvGr  1459 non-null   int64  \n",
            " 15  KitchenAbvGr  1459 non-null   int64  \n",
            " 16  TotRmsAbvGrd  1459 non-null   int64  \n",
            " 17  Fireplaces    1459 non-null   int64  \n",
            " 18  GarageCars    1458 non-null   float64\n",
            " 19  GarageArea    1458 non-null   float64\n",
            "dtypes: float64(4), int64(14), object(2)\n",
            "memory usage: 228.1+ KB\n"
          ]
        }
      ],
      "source": [
        "test_data.info()"
      ]
    },
    {
      "cell_type": "code",
      "execution_count": 77,
      "metadata": {
        "colab": {
          "base_uri": "https://localhost:8080/"
        },
        "id": "D4_9MpHkAdIl",
        "outputId": "2de3c221-45fa-4f97-8592-7cc57b757ad9"
      },
      "outputs": [
        {
          "name": "stdout",
          "output_type": "stream",
          "text": [
            "Missing values in testing data:\n",
            "MSSubClass        0\n",
            "MSZoning          4\n",
            "LotFrontage     227\n",
            "LotArea           0\n",
            "Neighborhood      0\n",
            "OverallQual       0\n",
            "OverallCond       0\n",
            "YearBuilt         0\n",
            "YearRemodAdd      0\n",
            "TotalBsmtSF       1\n",
            "1stFlrSF          0\n",
            "2ndFlrSF          0\n",
            "FullBath          0\n",
            "HalfBath          0\n",
            "BedroomAbvGr      0\n",
            "KitchenAbvGr      0\n",
            "TotRmsAbvGrd      0\n",
            "Fireplaces        0\n",
            "GarageCars        1\n",
            "GarageArea        1\n",
            "dtype: int64\n"
          ]
        }
      ],
      "source": [
        "print(\"Missing values in testing data:\")\n",
        "print(test_data.isnull().sum())"
      ]
    },
    {
      "cell_type": "code",
      "execution_count": 78,
      "metadata": {
        "colab": {
          "base_uri": "https://localhost:8080/",
          "height": 253
        },
        "id": "m5kuI5kxDaoq",
        "outputId": "643a534c-75c3-48e3-a75b-780cbf245949"
      },
      "outputs": [
        {
          "data": {
            "text/html": [
              "<div>\n",
              "<style scoped>\n",
              "    .dataframe tbody tr th:only-of-type {\n",
              "        vertical-align: middle;\n",
              "    }\n",
              "\n",
              "    .dataframe tbody tr th {\n",
              "        vertical-align: top;\n",
              "    }\n",
              "\n",
              "    .dataframe thead th {\n",
              "        text-align: right;\n",
              "    }\n",
              "</style>\n",
              "<table border=\"1\" class=\"dataframe\">\n",
              "  <thead>\n",
              "    <tr style=\"text-align: right;\">\n",
              "      <th></th>\n",
              "      <th>MSSubClass</th>\n",
              "      <th>MSZoning</th>\n",
              "      <th>LotFrontage</th>\n",
              "      <th>LotArea</th>\n",
              "      <th>Neighborhood</th>\n",
              "      <th>OverallQual</th>\n",
              "      <th>OverallCond</th>\n",
              "      <th>YearBuilt</th>\n",
              "      <th>YearRemodAdd</th>\n",
              "      <th>TotalBsmtSF</th>\n",
              "      <th>1stFlrSF</th>\n",
              "      <th>2ndFlrSF</th>\n",
              "      <th>FullBath</th>\n",
              "      <th>HalfBath</th>\n",
              "      <th>BedroomAbvGr</th>\n",
              "      <th>KitchenAbvGr</th>\n",
              "      <th>TotRmsAbvGrd</th>\n",
              "      <th>Fireplaces</th>\n",
              "      <th>GarageCars</th>\n",
              "      <th>GarageArea</th>\n",
              "    </tr>\n",
              "  </thead>\n",
              "  <tbody>\n",
              "    <tr>\n",
              "      <th>0</th>\n",
              "      <td>20</td>\n",
              "      <td>RH</td>\n",
              "      <td>80.0</td>\n",
              "      <td>11622</td>\n",
              "      <td>NAmes</td>\n",
              "      <td>5</td>\n",
              "      <td>6</td>\n",
              "      <td>1961</td>\n",
              "      <td>1961</td>\n",
              "      <td>882.0</td>\n",
              "      <td>896</td>\n",
              "      <td>0</td>\n",
              "      <td>1</td>\n",
              "      <td>0</td>\n",
              "      <td>2</td>\n",
              "      <td>1</td>\n",
              "      <td>5</td>\n",
              "      <td>0</td>\n",
              "      <td>1.0</td>\n",
              "      <td>730.0</td>\n",
              "    </tr>\n",
              "    <tr>\n",
              "      <th>1</th>\n",
              "      <td>20</td>\n",
              "      <td>RL</td>\n",
              "      <td>81.0</td>\n",
              "      <td>14267</td>\n",
              "      <td>NAmes</td>\n",
              "      <td>6</td>\n",
              "      <td>6</td>\n",
              "      <td>1958</td>\n",
              "      <td>1958</td>\n",
              "      <td>1329.0</td>\n",
              "      <td>1329</td>\n",
              "      <td>0</td>\n",
              "      <td>1</td>\n",
              "      <td>1</td>\n",
              "      <td>3</td>\n",
              "      <td>1</td>\n",
              "      <td>6</td>\n",
              "      <td>0</td>\n",
              "      <td>1.0</td>\n",
              "      <td>312.0</td>\n",
              "    </tr>\n",
              "    <tr>\n",
              "      <th>2</th>\n",
              "      <td>60</td>\n",
              "      <td>RL</td>\n",
              "      <td>74.0</td>\n",
              "      <td>13830</td>\n",
              "      <td>Gilbert</td>\n",
              "      <td>5</td>\n",
              "      <td>5</td>\n",
              "      <td>1997</td>\n",
              "      <td>1998</td>\n",
              "      <td>928.0</td>\n",
              "      <td>928</td>\n",
              "      <td>701</td>\n",
              "      <td>2</td>\n",
              "      <td>1</td>\n",
              "      <td>3</td>\n",
              "      <td>1</td>\n",
              "      <td>6</td>\n",
              "      <td>1</td>\n",
              "      <td>2.0</td>\n",
              "      <td>482.0</td>\n",
              "    </tr>\n",
              "    <tr>\n",
              "      <th>3</th>\n",
              "      <td>60</td>\n",
              "      <td>RL</td>\n",
              "      <td>78.0</td>\n",
              "      <td>9978</td>\n",
              "      <td>Gilbert</td>\n",
              "      <td>6</td>\n",
              "      <td>6</td>\n",
              "      <td>1998</td>\n",
              "      <td>1998</td>\n",
              "      <td>926.0</td>\n",
              "      <td>926</td>\n",
              "      <td>678</td>\n",
              "      <td>2</td>\n",
              "      <td>1</td>\n",
              "      <td>3</td>\n",
              "      <td>1</td>\n",
              "      <td>7</td>\n",
              "      <td>1</td>\n",
              "      <td>2.0</td>\n",
              "      <td>470.0</td>\n",
              "    </tr>\n",
              "    <tr>\n",
              "      <th>4</th>\n",
              "      <td>120</td>\n",
              "      <td>RL</td>\n",
              "      <td>43.0</td>\n",
              "      <td>5005</td>\n",
              "      <td>StoneBr</td>\n",
              "      <td>8</td>\n",
              "      <td>5</td>\n",
              "      <td>1992</td>\n",
              "      <td>1992</td>\n",
              "      <td>1280.0</td>\n",
              "      <td>1280</td>\n",
              "      <td>0</td>\n",
              "      <td>2</td>\n",
              "      <td>0</td>\n",
              "      <td>2</td>\n",
              "      <td>1</td>\n",
              "      <td>5</td>\n",
              "      <td>0</td>\n",
              "      <td>2.0</td>\n",
              "      <td>506.0</td>\n",
              "    </tr>\n",
              "  </tbody>\n",
              "</table>\n",
              "</div>"
            ],
            "text/plain": [
              "   MSSubClass MSZoning  LotFrontage  LotArea Neighborhood  OverallQual  \\\n",
              "0          20       RH         80.0    11622        NAmes            5   \n",
              "1          20       RL         81.0    14267        NAmes            6   \n",
              "2          60       RL         74.0    13830      Gilbert            5   \n",
              "3          60       RL         78.0     9978      Gilbert            6   \n",
              "4         120       RL         43.0     5005      StoneBr            8   \n",
              "\n",
              "   OverallCond  YearBuilt  YearRemodAdd  TotalBsmtSF  1stFlrSF  2ndFlrSF  \\\n",
              "0            6       1961          1961        882.0       896         0   \n",
              "1            6       1958          1958       1329.0      1329         0   \n",
              "2            5       1997          1998        928.0       928       701   \n",
              "3            6       1998          1998        926.0       926       678   \n",
              "4            5       1992          1992       1280.0      1280         0   \n",
              "\n",
              "   FullBath  HalfBath  BedroomAbvGr  KitchenAbvGr  TotRmsAbvGrd  Fireplaces  \\\n",
              "0         1         0             2             1             5           0   \n",
              "1         1         1             3             1             6           0   \n",
              "2         2         1             3             1             6           1   \n",
              "3         2         1             3             1             7           1   \n",
              "4         2         0             2             1             5           0   \n",
              "\n",
              "   GarageCars  GarageArea  \n",
              "0         1.0       730.0  \n",
              "1         1.0       312.0  \n",
              "2         2.0       482.0  \n",
              "3         2.0       470.0  \n",
              "4         2.0       506.0  "
            ]
          },
          "execution_count": 78,
          "metadata": {},
          "output_type": "execute_result"
        }
      ],
      "source": [
        "lot_frontage_mean = train_data['LotFrontage'].mean()\n",
        "test_data['LotFrontage'].fillna(lot_frontage_mean, inplace=True)\n",
        "test_data.head()"
      ]
    },
    {
      "cell_type": "code",
      "execution_count": 79,
      "metadata": {
        "colab": {
          "base_uri": "https://localhost:8080/"
        },
        "id": "k8N8ksalEHoV",
        "outputId": "f0c80cde-a901-40cd-dc05-50733a7266ec"
      },
      "outputs": [
        {
          "name": "stdout",
          "output_type": "stream",
          "text": [
            "Missing values in testing data:\n",
            "MSSubClass      0\n",
            "MSZoning        4\n",
            "LotFrontage     0\n",
            "LotArea         0\n",
            "Neighborhood    0\n",
            "OverallQual     0\n",
            "OverallCond     0\n",
            "YearBuilt       0\n",
            "YearRemodAdd    0\n",
            "TotalBsmtSF     1\n",
            "1stFlrSF        0\n",
            "2ndFlrSF        0\n",
            "FullBath        0\n",
            "HalfBath        0\n",
            "BedroomAbvGr    0\n",
            "KitchenAbvGr    0\n",
            "TotRmsAbvGrd    0\n",
            "Fireplaces      0\n",
            "GarageCars      1\n",
            "GarageArea      1\n",
            "dtype: int64\n"
          ]
        }
      ],
      "source": [
        "print(\"Missing values in testing data:\")\n",
        "print(test_data.isnull().sum())"
      ]
    },
    {
      "cell_type": "code",
      "execution_count": 80,
      "metadata": {
        "colab": {
          "base_uri": "https://localhost:8080/"
        },
        "id": "X-EdoyRgGB9Q",
        "outputId": "656a6b2e-81f9-46d8-af00-2aae9e926f6f"
      },
      "outputs": [
        {
          "name": "stdout",
          "output_type": "stream",
          "text": [
            "Number of NaN values in 'MSZoning' column in test_data: 0\n"
          ]
        }
      ],
      "source": [
        "test_data = test_data.dropna(subset=['MSZoning'], axis=0)\n",
        "print(\"Number of NaN values in 'MSZoning' column in test_data:\", test_data['MSZoning'].isnull().sum())"
      ]
    },
    {
      "cell_type": "code",
      "execution_count": 81,
      "metadata": {
        "colab": {
          "base_uri": "https://localhost:8080/"
        },
        "id": "ToWClRMhG288",
        "outputId": "efa7da10-00ca-4b77-e090-d670f914279d"
      },
      "outputs": [
        {
          "name": "stdout",
          "output_type": "stream",
          "text": [
            "Missing values in testing data:\n",
            "MSSubClass      0\n",
            "MSZoning        0\n",
            "LotFrontage     0\n",
            "LotArea         0\n",
            "Neighborhood    0\n",
            "OverallQual     0\n",
            "OverallCond     0\n",
            "YearBuilt       0\n",
            "YearRemodAdd    0\n",
            "TotalBsmtSF     1\n",
            "1stFlrSF        0\n",
            "2ndFlrSF        0\n",
            "FullBath        0\n",
            "HalfBath        0\n",
            "BedroomAbvGr    0\n",
            "KitchenAbvGr    0\n",
            "TotRmsAbvGrd    0\n",
            "Fireplaces      0\n",
            "GarageCars      1\n",
            "GarageArea      1\n",
            "dtype: int64\n"
          ]
        }
      ],
      "source": [
        "print(\"Missing values in testing data:\")\n",
        "print(test_data.isnull().sum())"
      ]
    },
    {
      "cell_type": "code",
      "execution_count": 82,
      "metadata": {},
      "outputs": [
        {
          "name": "stdout",
          "output_type": "stream",
          "text": [
            "Number of NaN values in 'MSZoning' column in test_data: 0\n"
          ]
        }
      ],
      "source": [
        "test_data = test_data.dropna(subset=['TotalBsmtSF'], axis=0)\n",
        "print(\"Number of NaN values in 'MSZoning' column in test_data:\", test_data['TotalBsmtSF'].isnull().sum())"
      ]
    },
    {
      "cell_type": "code",
      "execution_count": 83,
      "metadata": {},
      "outputs": [
        {
          "name": "stdout",
          "output_type": "stream",
          "text": [
            "Number of NaN values in 'MSZoning' column in test_data: 0\n"
          ]
        }
      ],
      "source": [
        "test_data = test_data.dropna(subset=['GarageCars'], axis=0)\n",
        "print(\"Number of NaN values in 'MSZoning' column in test_data:\", test_data['GarageCars'].isnull().sum())"
      ]
    },
    {
      "cell_type": "code",
      "execution_count": 84,
      "metadata": {},
      "outputs": [
        {
          "name": "stdout",
          "output_type": "stream",
          "text": [
            "Number of NaN values in 'MSZoning' column in test_data: 0\n"
          ]
        }
      ],
      "source": [
        "test_data = test_data.dropna(subset=['GarageArea'], axis=0)\n",
        "print(\"Number of NaN values in 'MSZoning' column in test_data:\", test_data['GarageArea'].isnull().sum())"
      ]
    },
    {
      "cell_type": "code",
      "execution_count": 85,
      "metadata": {
        "id": "Z88M7Su0IJK4"
      },
      "outputs": [],
      "source": [
        "train_data = pd.get_dummies(train_data, drop_first=True)\n",
        "test_data = pd.get_dummies(test_data, drop_first=True)"
      ]
    },
    {
      "cell_type": "code",
      "execution_count": 86,
      "metadata": {},
      "outputs": [
        {
          "name": "stdout",
          "output_type": "stream",
          "text": [
            "Missing values in testing data:\n",
            "MSSubClass              0\n",
            "LotFrontage             0\n",
            "LotArea                 0\n",
            "OverallQual             0\n",
            "OverallCond             0\n",
            "YearBuilt               0\n",
            "YearRemodAdd            0\n",
            "TotalBsmtSF             0\n",
            "1stFlrSF                0\n",
            "2ndFlrSF                0\n",
            "FullBath                0\n",
            "HalfBath                0\n",
            "BedroomAbvGr            0\n",
            "KitchenAbvGr            0\n",
            "TotRmsAbvGrd            0\n",
            "Fireplaces              0\n",
            "GarageCars              0\n",
            "GarageArea              0\n",
            "MSZoning_FV             0\n",
            "MSZoning_RH             0\n",
            "MSZoning_RL             0\n",
            "MSZoning_RM             0\n",
            "Neighborhood_Blueste    0\n",
            "Neighborhood_BrDale     0\n",
            "Neighborhood_BrkSide    0\n",
            "Neighborhood_ClearCr    0\n",
            "Neighborhood_CollgCr    0\n",
            "Neighborhood_Crawfor    0\n",
            "Neighborhood_Edwards    0\n",
            "Neighborhood_Gilbert    0\n",
            "Neighborhood_IDOTRR     0\n",
            "Neighborhood_MeadowV    0\n",
            "Neighborhood_Mitchel    0\n",
            "Neighborhood_NAmes      0\n",
            "Neighborhood_NPkVill    0\n",
            "Neighborhood_NWAmes     0\n",
            "Neighborhood_NoRidge    0\n",
            "Neighborhood_NridgHt    0\n",
            "Neighborhood_OldTown    0\n",
            "Neighborhood_SWISU      0\n",
            "Neighborhood_Sawyer     0\n",
            "Neighborhood_SawyerW    0\n",
            "Neighborhood_Somerst    0\n",
            "Neighborhood_StoneBr    0\n",
            "Neighborhood_Timber     0\n",
            "Neighborhood_Veenker    0\n",
            "dtype: int64\n"
          ]
        }
      ],
      "source": [
        "print(\"Missing values in testing data:\")\n",
        "print(test_data.isnull().sum())"
      ]
    },
    {
      "cell_type": "code",
      "execution_count": 87,
      "metadata": {
        "id": "h2YUg-cMIPhj"
      },
      "outputs": [],
      "source": [
        "X = train_data.drop('SalePrice', axis=1)\n",
        "y = train_data['SalePrice']"
      ]
    },
    {
      "cell_type": "code",
      "execution_count": 88,
      "metadata": {
        "id": "rvIwimt-IRFu"
      },
      "outputs": [],
      "source": [
        "X_train, X_test, y_train, y_test = train_test_split(X, y, test_size=0.2, random_state=42)"
      ]
    },
    {
      "cell_type": "code",
      "execution_count": 90,
      "metadata": {
        "colab": {
          "base_uri": "https://localhost:8080/",
          "height": 439
        },
        "id": "vWrrbCYhIgXM",
        "outputId": "16d2feb8-2396-4cba-b981-607dcffff8fc"
      },
      "outputs": [
        {
          "data": {
            "text/html": [
              "<style>#sk-container-id-2 {color: black;}#sk-container-id-2 pre{padding: 0;}#sk-container-id-2 div.sk-toggleable {background-color: white;}#sk-container-id-2 label.sk-toggleable__label {cursor: pointer;display: block;width: 100%;margin-bottom: 0;padding: 0.3em;box-sizing: border-box;text-align: center;}#sk-container-id-2 label.sk-toggleable__label-arrow:before {content: \"▸\";float: left;margin-right: 0.25em;color: #696969;}#sk-container-id-2 label.sk-toggleable__label-arrow:hover:before {color: black;}#sk-container-id-2 div.sk-estimator:hover label.sk-toggleable__label-arrow:before {color: black;}#sk-container-id-2 div.sk-toggleable__content {max-height: 0;max-width: 0;overflow: hidden;text-align: left;background-color: #f0f8ff;}#sk-container-id-2 div.sk-toggleable__content pre {margin: 0.2em;color: black;border-radius: 0.25em;background-color: #f0f8ff;}#sk-container-id-2 input.sk-toggleable__control:checked~div.sk-toggleable__content {max-height: 200px;max-width: 100%;overflow: auto;}#sk-container-id-2 input.sk-toggleable__control:checked~label.sk-toggleable__label-arrow:before {content: \"▾\";}#sk-container-id-2 div.sk-estimator input.sk-toggleable__control:checked~label.sk-toggleable__label {background-color: #d4ebff;}#sk-container-id-2 div.sk-label input.sk-toggleable__control:checked~label.sk-toggleable__label {background-color: #d4ebff;}#sk-container-id-2 input.sk-hidden--visually {border: 0;clip: rect(1px 1px 1px 1px);clip: rect(1px, 1px, 1px, 1px);height: 1px;margin: -1px;overflow: hidden;padding: 0;position: absolute;width: 1px;}#sk-container-id-2 div.sk-estimator {font-family: monospace;background-color: #f0f8ff;border: 1px dotted black;border-radius: 0.25em;box-sizing: border-box;margin-bottom: 0.5em;}#sk-container-id-2 div.sk-estimator:hover {background-color: #d4ebff;}#sk-container-id-2 div.sk-parallel-item::after {content: \"\";width: 100%;border-bottom: 1px solid gray;flex-grow: 1;}#sk-container-id-2 div.sk-label:hover label.sk-toggleable__label {background-color: #d4ebff;}#sk-container-id-2 div.sk-serial::before {content: \"\";position: absolute;border-left: 1px solid gray;box-sizing: border-box;top: 0;bottom: 0;left: 50%;z-index: 0;}#sk-container-id-2 div.sk-serial {display: flex;flex-direction: column;align-items: center;background-color: white;padding-right: 0.2em;padding-left: 0.2em;position: relative;}#sk-container-id-2 div.sk-item {position: relative;z-index: 1;}#sk-container-id-2 div.sk-parallel {display: flex;align-items: stretch;justify-content: center;background-color: white;position: relative;}#sk-container-id-2 div.sk-item::before, #sk-container-id-2 div.sk-parallel-item::before {content: \"\";position: absolute;border-left: 1px solid gray;box-sizing: border-box;top: 0;bottom: 0;left: 50%;z-index: -1;}#sk-container-id-2 div.sk-parallel-item {display: flex;flex-direction: column;z-index: 1;position: relative;background-color: white;}#sk-container-id-2 div.sk-parallel-item:first-child::after {align-self: flex-end;width: 50%;}#sk-container-id-2 div.sk-parallel-item:last-child::after {align-self: flex-start;width: 50%;}#sk-container-id-2 div.sk-parallel-item:only-child::after {width: 0;}#sk-container-id-2 div.sk-dashed-wrapped {border: 1px dashed gray;margin: 0 0.4em 0.5em 0.4em;box-sizing: border-box;padding-bottom: 0.4em;background-color: white;}#sk-container-id-2 div.sk-label label {font-family: monospace;font-weight: bold;display: inline-block;line-height: 1.2em;}#sk-container-id-2 div.sk-label-container {text-align: center;}#sk-container-id-2 div.sk-container {/* jupyter's `normalize.less` sets `[hidden] { display: none; }` but bootstrap.min.css set `[hidden] { display: none !important; }` so we also need the `!important` here to be able to override the default hidden behavior on the sphinx rendered scikit-learn.org. See: https://github.com/scikit-learn/scikit-learn/issues/21755 */display: inline-block !important;position: relative;}#sk-container-id-2 div.sk-text-repr-fallback {display: none;}</style><div id=\"sk-container-id-2\" class=\"sk-top-container\"><div class=\"sk-text-repr-fallback\"><pre>LinearRegression()</pre><b>In a Jupyter environment, please rerun this cell to show the HTML representation or trust the notebook. <br />On GitHub, the HTML representation is unable to render, please try loading this page with nbviewer.org.</b></div><div class=\"sk-container\" hidden><div class=\"sk-item\"><div class=\"sk-estimator sk-toggleable\"><input class=\"sk-toggleable__control sk-hidden--visually\" id=\"sk-estimator-id-2\" type=\"checkbox\" checked><label for=\"sk-estimator-id-2\" class=\"sk-toggleable__label sk-toggleable__label-arrow\">LinearRegression</label><div class=\"sk-toggleable__content\"><pre>LinearRegression()</pre></div></div></div></div></div>"
            ],
            "text/plain": [
              "LinearRegression()"
            ]
          },
          "execution_count": 90,
          "metadata": {},
          "output_type": "execute_result"
        }
      ],
      "source": [
        "model = LinearRegression()\n",
        "model.fit(X_train, y_train)"
      ]
    },
    {
      "cell_type": "code",
      "execution_count": 97,
      "metadata": {},
      "outputs": [
        {
          "name": "stdout",
          "output_type": "stream",
          "text": [
            "Train R^2: 0.8311923725179824\n",
            "Test R^2: 0.8469675165768538\n"
          ]
        }
      ],
      "source": [
        "train_r2 = r2_score(y_train, train_preds)\n",
        "test_r2 = r2_score(y_test, test_preds)\n",
        "print(\"Train R^2:\", train_r2)\n",
        "print(\"Test R^2:\", test_r2)"
      ]
    },
    {
      "cell_type": "code",
      "execution_count": 92,
      "metadata": {},
      "outputs": [
        {
          "data": {
            "image/png": "[encoded data removed]",
            "text/plain": [
              "<Figure size 640x480 with 1 Axes>"
            ]
          },
          "metadata": {},
          "output_type": "display_data"
        }
      ],
      "source": [
        "# Plotting the results\n",
        "plt.scatter(y_test, test_preds)\n",
        "plt.xlabel(\"True Values\")\n",
        "plt.ylabel(\"Predictions\")\n",
        "plt.title(\"True vs Predicted House Prices\")\n",
        "plt.show()"
      ]
    }
  ],
  "metadata": {
    "colab": {
      "provenance": []
    },
    "kernelspec": {
      "display_name": "Python 3",
      "name": "python3"
    },
    "language_info": {
      "codemirror_mode": {
        "name": "ipython",
        "version": 3
      },
      "file_extension": ".py",
      "mimetype": "text/x-python",
      "name": "python",
      "nbconvert_exporter": "python",
      "pygments_lexer": "ipython3",
      "version": "3.11.5"
    }
  },
  "nbformat": 4,
  "nbformat_minor": 0
}
